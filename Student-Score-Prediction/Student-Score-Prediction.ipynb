{
 "cells": [
  {
   "cell_type": "code",
   "execution_count": 1,
   "metadata": {},
   "outputs": [],
   "source": [
    "import pandas as pd\n",
    "import numpy as np "
   ]
  },
  {
   "cell_type": "code",
   "execution_count": 2,
   "metadata": {},
   "outputs": [],
   "source": [
    "attr = ['stdno', '1st', '2nd', '3rd', 'average', 'result']\n",
    "path = open('studentData.csv', 'r')\n",
    "dataset = pd.read_csv(path, names = attr)"
   ]
  },
  {
   "cell_type": "code",
   "execution_count": 3,
   "metadata": {},
   "outputs": [
    {
     "output_type": "execute_result",
     "data": {
      "text/plain": "(10, 6)"
     },
     "metadata": {},
     "execution_count": 3
    }
   ],
   "source": [
    "dataset.shape"
   ]
  },
  {
   "cell_type": "code",
   "execution_count": 4,
   "metadata": {},
   "outputs": [
    {
     "output_type": "execute_result",
     "data": {
      "text/plain": "   stdno  1st  2nd  3rd    average  result\n0      1   86   51   72  69.666667       1\n1      2   76   61   93  76.666667       1\n2      3   75   78   90  81.000000       1\n3      4   54   58   28  46.666667       0\n4      5   84   16   80  60.000000       1\n5      6   23   77   89  63.000000       1\n6      7   67   93   55  71.666667       1\n7      8   23   67   27  39.000000       0\n8      9   67   52   19  46.000000       0\n9     10   57   74   89  73.333333       1",
      "text/html": "<div>\n<style scoped>\n    .dataframe tbody tr th:only-of-type {\n        vertical-align: middle;\n    }\n\n    .dataframe tbody tr th {\n        vertical-align: top;\n    }\n\n    .dataframe thead th {\n        text-align: right;\n    }\n</style>\n<table border=\"1\" class=\"dataframe\">\n  <thead>\n    <tr style=\"text-align: right;\">\n      <th></th>\n      <th>stdno</th>\n      <th>1st</th>\n      <th>2nd</th>\n      <th>3rd</th>\n      <th>average</th>\n      <th>result</th>\n    </tr>\n  </thead>\n  <tbody>\n    <tr>\n      <th>0</th>\n      <td>1</td>\n      <td>86</td>\n      <td>51</td>\n      <td>72</td>\n      <td>69.666667</td>\n      <td>1</td>\n    </tr>\n    <tr>\n      <th>1</th>\n      <td>2</td>\n      <td>76</td>\n      <td>61</td>\n      <td>93</td>\n      <td>76.666667</td>\n      <td>1</td>\n    </tr>\n    <tr>\n      <th>2</th>\n      <td>3</td>\n      <td>75</td>\n      <td>78</td>\n      <td>90</td>\n      <td>81.000000</td>\n      <td>1</td>\n    </tr>\n    <tr>\n      <th>3</th>\n      <td>4</td>\n      <td>54</td>\n      <td>58</td>\n      <td>28</td>\n      <td>46.666667</td>\n      <td>0</td>\n    </tr>\n    <tr>\n      <th>4</th>\n      <td>5</td>\n      <td>84</td>\n      <td>16</td>\n      <td>80</td>\n      <td>60.000000</td>\n      <td>1</td>\n    </tr>\n    <tr>\n      <th>5</th>\n      <td>6</td>\n      <td>23</td>\n      <td>77</td>\n      <td>89</td>\n      <td>63.000000</td>\n      <td>1</td>\n    </tr>\n    <tr>\n      <th>6</th>\n      <td>7</td>\n      <td>67</td>\n      <td>93</td>\n      <td>55</td>\n      <td>71.666667</td>\n      <td>1</td>\n    </tr>\n    <tr>\n      <th>7</th>\n      <td>8</td>\n      <td>23</td>\n      <td>67</td>\n      <td>27</td>\n      <td>39.000000</td>\n      <td>0</td>\n    </tr>\n    <tr>\n      <th>8</th>\n      <td>9</td>\n      <td>67</td>\n      <td>52</td>\n      <td>19</td>\n      <td>46.000000</td>\n      <td>0</td>\n    </tr>\n    <tr>\n      <th>9</th>\n      <td>10</td>\n      <td>57</td>\n      <td>74</td>\n      <td>89</td>\n      <td>73.333333</td>\n      <td>1</td>\n    </tr>\n  </tbody>\n</table>\n</div>"
     },
     "metadata": {},
     "execution_count": 4
    }
   ],
   "source": [
    "dataset.head(15)"
   ]
  },
  {
   "cell_type": "code",
   "execution_count": 5,
   "metadata": {},
   "outputs": [
    {
     "output_type": "execute_result",
     "data": {
      "text/plain": "          stdno        1st        2nd        3rd    average     result\ncount  10.00000  10.000000  10.000000  10.000000  10.000000  10.000000\nmean    5.50000  61.200000  62.700000  64.200000  62.700000   0.700000\nstd     3.02765  22.606784  20.976442  29.547702  14.441410   0.483046\nmin     1.00000  23.000000  16.000000  19.000000  39.000000   0.000000\n25%     3.25000  54.750000  53.500000  34.750000  50.000000   0.250000\n50%     5.50000  67.000000  64.000000  76.000000  66.333333   1.000000\n75%     7.75000  75.750000  76.250000  89.000000  72.916667   1.000000\nmax    10.00000  86.000000  93.000000  93.000000  81.000000   1.000000",
      "text/html": "<div>\n<style scoped>\n    .dataframe tbody tr th:only-of-type {\n        vertical-align: middle;\n    }\n\n    .dataframe tbody tr th {\n        vertical-align: top;\n    }\n\n    .dataframe thead th {\n        text-align: right;\n    }\n</style>\n<table border=\"1\" class=\"dataframe\">\n  <thead>\n    <tr style=\"text-align: right;\">\n      <th></th>\n      <th>stdno</th>\n      <th>1st</th>\n      <th>2nd</th>\n      <th>3rd</th>\n      <th>average</th>\n      <th>result</th>\n    </tr>\n  </thead>\n  <tbody>\n    <tr>\n      <th>count</th>\n      <td>10.00000</td>\n      <td>10.000000</td>\n      <td>10.000000</td>\n      <td>10.000000</td>\n      <td>10.000000</td>\n      <td>10.000000</td>\n    </tr>\n    <tr>\n      <th>mean</th>\n      <td>5.50000</td>\n      <td>61.200000</td>\n      <td>62.700000</td>\n      <td>64.200000</td>\n      <td>62.700000</td>\n      <td>0.700000</td>\n    </tr>\n    <tr>\n      <th>std</th>\n      <td>3.02765</td>\n      <td>22.606784</td>\n      <td>20.976442</td>\n      <td>29.547702</td>\n      <td>14.441410</td>\n      <td>0.483046</td>\n    </tr>\n    <tr>\n      <th>min</th>\n      <td>1.00000</td>\n      <td>23.000000</td>\n      <td>16.000000</td>\n      <td>19.000000</td>\n      <td>39.000000</td>\n      <td>0.000000</td>\n    </tr>\n    <tr>\n      <th>25%</th>\n      <td>3.25000</td>\n      <td>54.750000</td>\n      <td>53.500000</td>\n      <td>34.750000</td>\n      <td>50.000000</td>\n      <td>0.250000</td>\n    </tr>\n    <tr>\n      <th>50%</th>\n      <td>5.50000</td>\n      <td>67.000000</td>\n      <td>64.000000</td>\n      <td>76.000000</td>\n      <td>66.333333</td>\n      <td>1.000000</td>\n    </tr>\n    <tr>\n      <th>75%</th>\n      <td>7.75000</td>\n      <td>75.750000</td>\n      <td>76.250000</td>\n      <td>89.000000</td>\n      <td>72.916667</td>\n      <td>1.000000</td>\n    </tr>\n    <tr>\n      <th>max</th>\n      <td>10.00000</td>\n      <td>86.000000</td>\n      <td>93.000000</td>\n      <td>93.000000</td>\n      <td>81.000000</td>\n      <td>1.000000</td>\n    </tr>\n  </tbody>\n</table>\n</div>"
     },
     "metadata": {},
     "execution_count": 5
    }
   ],
   "source": [
    "dataset.describe()"
   ]
  },
  {
   "cell_type": "code",
   "execution_count": 6,
   "metadata": {},
   "outputs": [
    {
     "output_type": "stream",
     "name": "stdout",
     "text": "<class 'pandas.core.frame.DataFrame'>\nRangeIndex: 10 entries, 0 to 9\nData columns (total 6 columns):\n #   Column   Non-Null Count  Dtype  \n---  ------   --------------  -----  \n 0   stdno    10 non-null     int64  \n 1   1st      10 non-null     int64  \n 2   2nd      10 non-null     int64  \n 3   3rd      10 non-null     int64  \n 4   average  10 non-null     float64\n 5   result   10 non-null     int64  \ndtypes: float64(1), int64(5)\nmemory usage: 608.0 bytes\n"
    }
   ],
   "source": [
    "dataset.info()"
   ]
  },
  {
   "cell_type": "code",
   "execution_count": 7,
   "metadata": {},
   "outputs": [
    {
     "output_type": "execute_result",
     "data": {
      "text/plain": "stdno      0\n1st        0\n2nd        0\n3rd        0\naverage    0\nresult     0\ndtype: int64"
     },
     "metadata": {},
     "execution_count": 7
    }
   ],
   "source": [
    "dataset.isnull().sum()"
   ]
  },
  {
   "cell_type": "code",
   "execution_count": 8,
   "metadata": {},
   "outputs": [],
   "source": [
    "from sklearn.model_selection import train_test_split"
   ]
  },
  {
   "cell_type": "code",
   "execution_count": 9,
   "metadata": {},
   "outputs": [],
   "source": [
    "withoutResult = dataset.iloc[:, dataset.columns!='result']\n",
    "result = dataset.iloc[:, dataset.columns=='result']"
   ]
  },
  {
   "cell_type": "code",
   "execution_count": 10,
   "metadata": {},
   "outputs": [
    {
     "output_type": "stream",
     "name": "stdout",
     "text": "stdno  1st  2nd  3rd    average\n0      1   86   51   72  69.666667\n1      2   76   61   93  76.666667\n2      3   75   78   90  81.000000\n3      4   54   58   28  46.666667\n4      5   84   16   80  60.000000\n5      6   23   77   89  63.000000\n6      7   67   93   55  71.666667\n7      8   23   67   27  39.000000\n8      9   67   52   19  46.000000\n9     10   57   74   89  73.333333\n\n\n   result\n0       1\n1       1\n2       1\n3       0\n4       1\n5       1\n6       1\n7       0\n8       0\n9       1\n"
    }
   ],
   "source": [
    "print(withoutResult)\n",
    "print(\"\\n\")\n",
    "print(result)"
   ]
  },
  {
   "cell_type": "code",
   "execution_count": 11,
   "metadata": {},
   "outputs": [],
   "source": [
    "withoutResultTrainData, withoutResultTestData, resultTrainData, resultTestData = train_test_split(withoutResult, result, test_size=0.2)"
   ]
  },
  {
   "cell_type": "code",
   "execution_count": 12,
   "metadata": {},
   "outputs": [
    {
     "output_type": "execute_result",
     "data": {
      "text/plain": "   result\n0       1\n2       1",
      "text/html": "<div>\n<style scoped>\n    .dataframe tbody tr th:only-of-type {\n        vertical-align: middle;\n    }\n\n    .dataframe tbody tr th {\n        vertical-align: top;\n    }\n\n    .dataframe thead th {\n        text-align: right;\n    }\n</style>\n<table border=\"1\" class=\"dataframe\">\n  <thead>\n    <tr style=\"text-align: right;\">\n      <th></th>\n      <th>result</th>\n    </tr>\n  </thead>\n  <tbody>\n    <tr>\n      <th>0</th>\n      <td>1</td>\n    </tr>\n    <tr>\n      <th>2</th>\n      <td>1</td>\n    </tr>\n  </tbody>\n</table>\n</div>"
     },
     "metadata": {},
     "execution_count": 12
    }
   ],
   "source": [
    "resultTestData.head(15)"
   ]
  },
  {
   "cell_type": "code",
   "execution_count": 13,
   "metadata": {},
   "outputs": [],
   "source": [
    "from sklearn.ensemble import RandomForestClassifier"
   ]
  },
  {
   "cell_type": "code",
   "execution_count": 14,
   "metadata": {},
   "outputs": [
    {
     "output_type": "execute_result",
     "data": {
      "text/plain": "RandomForestClassifier()"
     },
     "metadata": {},
     "execution_count": 14
    }
   ],
   "source": [
    "model = RandomForestClassifier()\n",
    "model.fit(withoutResultTrainData, resultTrainData)"
   ]
  },
  {
   "cell_type": "code",
   "execution_count": 15,
   "metadata": {},
   "outputs": [
    {
     "output_type": "stream",
     "name": "stdout",
     "text": "[1 1]\n"
    }
   ],
   "source": [
    "predict = model.predict(withoutResultTestData)\n",
    "print(predict)"
   ]
  },
  {
   "cell_type": "code",
   "execution_count": 16,
   "metadata": {},
   "outputs": [],
   "source": [
    "from sklearn.metrics import accuracy_score"
   ]
  },
  {
   "cell_type": "code",
   "execution_count": 17,
   "metadata": {},
   "outputs": [
    {
     "output_type": "stream",
     "name": "stdout",
     "text": "1.0\n"
    }
   ],
   "source": [
    "accuracy = accuracy_score(predict, resultTestData)\n",
    "print(accuracy)"
   ]
  }
 ],
 "metadata": {
  "language_info": {
   "codemirror_mode": {
    "name": "ipython",
    "version": 3
   },
   "file_extension": ".py",
   "mimetype": "text/x-python",
   "name": "python",
   "nbconvert_exporter": "python",
   "pygments_lexer": "ipython3",
   "version": "3.9.6-final"
  },
  "orig_nbformat": 2,
  "kernelspec": {
   "name": "python39664bit300bd7dd9f2c455ab4272350236392aa",
   "display_name": "Python 3.9.6 64-bit"
  }
 },
 "nbformat": 4,
 "nbformat_minor": 2
}